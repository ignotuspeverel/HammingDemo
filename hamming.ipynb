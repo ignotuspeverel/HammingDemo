{
 "cells": [
  {
   "cell_type": "code",
   "execution_count": 11,
   "id": "7f603545",
   "metadata": {},
   "outputs": [],
   "source": [
    "#define hamming encoding\n",
    "def hamming(input):\n",
    "    input_length = len(input)\n",
    "    if input_length == 1:\n",
    "        output = input + input + input\n",
    "    if input_length == 4:\n",
    "        num = [10]\n",
    "        for i in range(input_length):\n",
    "            num.append(int(input[3-i]))\n",
    "        p1 = (num[1] + num[2] + num[4]) % 2\n",
    "        p2 = (num[1] + num[3] + num[4]) % 2\n",
    "        p4 = (num[2] + num[3] + num[4]) % 2\n",
    "        output = input[:3] + str(p4) + input[3:] + str(p2) + str(p1)\n",
    "    if input_length == 11:\n",
    "        num = [10]\n",
    "        for i in range(input_length):\n",
    "            num.append(int(input[10-i]))\n",
    "        p1 = (num[1] + num[2] + num[4] + num[5] + num[7] + num[9] + num[11]) % 2\n",
    "        p2 = (num[1] + num[3] + num[4] + num[6] + num[7] + num[10] + num[11]) % 2\n",
    "        p4 = (num[2] + num[3] + num[4] + num[8] + num[9] + num[10] + num[11]) % 2\n",
    "        p8 = (num[5] + num[6] + num[7] + num[8] + num[9] + num[10] + num[11]) % 2\n",
    "        output = input[:7] + str(p8) + input[7:10] + str(p4) + input[10] + str(p2) + str(p1)\n",
    "\n",
    "    return output\n",
    "\n",
    "    "
   ]
  },
  {
   "cell_type": "code",
   "execution_count": 13,
   "id": "d41b9e5a",
   "metadata": {},
   "outputs": [
    {
     "name": "stdout",
     "output_type": "stream",
     "text": [
      "000\n",
      "1010010\n",
      "101101111011011\n"
     ]
    }
   ],
   "source": [
    "#check the hamming\n",
    "print(hamming('0'))\n",
    "print(hamming('1010'))\n",
    "print(hamming('10110111010'))"
   ]
  },
  {
   "cell_type": "code",
   "execution_count": 2,
   "id": "310d65b6",
   "metadata": {},
   "outputs": [],
   "source": [
    "#define hamming decoding to check\n",
    "def hamming_check(input):\n",
    "    input_length = len(input)\n",
    "    if input_length == 3:\n",
    "        E1 = (int(input[0]) + int(input[2])) % 2\n",
    "        E2 = (int(input[0]) + int(input[1])) % 2\n",
    "        if E1 == 0 and E2 == 0:\n",
    "            return(\"The message is correct.\")\n",
    "        else:\n",
    "            loc = E1 + E2*2\n",
    "            input = list(input)\n",
    "            input[3-loc] = str((int(input[3-loc]) + 1) % 2)\n",
    "            output = ''.join(input)\n",
    "            print(str(loc) + \" is wrong.\")\n",
    "            return(\"Correction:\" + output)\n",
    "    if input_length == 7:\n",
    "        E1 = (int(input[0]) + int(input[2]) + int(input[4]) + int(input[6])) % 2\n",
    "        E2 = (int(input[0]) + int(input[1]) + int(input[4]) + int(input[5])) % 2\n",
    "        E4 = (int(input[0]) + int(input[1]) + int(input[2]) + int(input[3])) % 2\n",
    "        if E1 == 0 and E2 == 0 and E4 == 0:\n",
    "            return(\"The message is correct.\")\n",
    "        else:\n",
    "            loc = E1 + E2*2 + E4*4\n",
    "            input = list(input)\n",
    "            input[7-loc] = str((int(input[7-loc]) + 1) % 2)\n",
    "            output = ''.join(input)\n",
    "            print(str(loc) + \" is wrong.\")\n",
    "            return(\"Correction:\" + output)\n",
    "    if input_length == 15:\n",
    "        E1 = (int(input[0]) + int(input[2]) + int(input[4]) + int(input[6]) + int(input[8])+ int(input[10]) + int(input[12]) + int(input[14])) % 2\n",
    "        E2 = (int(input[0]) + int(input[1]) + int(input[4]) + int(input[5]) + int(input[8])+ int(input[9]) + int(input[12]) + int(input[13])) % 2\n",
    "        E4 = (int(input[0]) + int(input[1]) + int(input[2]) + int(input[3]) + int(input[8])+ int(input[9]) + int(input[10]) + int(input[11])) % 2\n",
    "        E8 = (int(input[0]) + int(input[1]) + int(input[2]) + int(input[3]) + int(input[4])+ int(input[5]) + int(input[6]) + int(input[7])) % 2\n",
    "\n",
    "        if E1 == 0 and E2 == 0 and E4 == 0 and E8 == 0:\n",
    "            return(\"The message is correct.\")\n",
    "        else:\n",
    "            loc = E1 + E2*2 + E4*4 + E8*8\n",
    "            input = list(input)\n",
    "            input[15-loc] = str((int(input[15-loc]) + 1) % 2)\n",
    "            output = ''.join(input)\n",
    "            print(str(loc) + \" is wrong.\")\n",
    "            return(\"Correction:\" + output)\n"
   ]
  },
  {
   "cell_type": "code",
   "execution_count": 4,
   "id": "1ca42c29",
   "metadata": {},
   "outputs": [
    {
     "name": "stdout",
     "output_type": "stream",
     "text": [
      "3 is wrong.\n",
      "Correction:000\n",
      "-------------------------------\n",
      "The message is correct.\n",
      "-------------------------------\n",
      "3 is wrong.\n",
      "Correction:1010010\n",
      "-------------------------------\n",
      "9 is wrong.\n",
      "Correction:101101111011011\n"
     ]
    }
   ],
   "source": [
    "#check the hamming_check\n",
    "print(hamming_check('100'))\n",
    "print(\"-------------------------------\")\n",
    "print(hamming_check('000'))\n",
    "print(\"-------------------------------\")\n",
    "print(hamming_check('1010110'))\n",
    "print(\"-------------------------------\")\n",
    "print(hamming_check('101101011011011'))"
   ]
  }
 ],
 "metadata": {
  "kernelspec": {
   "display_name": "Python 3.10.7 64-bit",
   "language": "python",
   "name": "python3"
  },
  "language_info": {
   "codemirror_mode": {
    "name": "ipython",
    "version": 3
   },
   "file_extension": ".py",
   "mimetype": "text/x-python",
   "name": "python",
   "nbconvert_exporter": "python",
   "pygments_lexer": "ipython3",
   "version": "3.10.7"
  },
  "vscode": {
   "interpreter": {
    "hash": "aa49793cf55b4e342d8a082111db00951e088a1082acb17060bd320fceb2db95"
   }
  }
 },
 "nbformat": 4,
 "nbformat_minor": 5
}
